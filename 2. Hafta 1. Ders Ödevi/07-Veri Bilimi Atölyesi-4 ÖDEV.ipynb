{
 "cells": [
  {
   "cell_type": "markdown",
   "metadata": {},
   "source": [
    "# Ödev 1: \n",
    "Kullanıcıdan pi değeri ve yarıçap bilgisi alarak dairenin alanını hesaplayan bir fonksiyon oluşturulur. ( Dairenin alan formülü = pi * (yarıçap**2) )"
   ]
  },
  {
   "cell_type": "code",
   "execution_count": 7,
   "metadata": {
    "vscode": {
     "languageId": "plaintext"
    }
   },
   "outputs": [
    {
     "name": "stdout",
     "output_type": "stream",
     "text": [
      "Pi sayısını giriniz: 3.14\n",
      "Yarıçap değerini giriniz: 9\n"
     ]
    },
    {
     "data": {
      "text/plain": [
       "254"
      ]
     },
     "execution_count": 7,
     "metadata": {},
     "output_type": "execute_result"
    }
   ],
   "source": [
    "def daireninAlani():\n",
    "    pi = input(\"Pi sayısını giriniz: \")\n",
    "    yaricap = input(\"Yarıçap değerini giriniz: \")\n",
    "    alan = (float(pi)) * (float(yaricap) ** 2)\n",
    "    return(round(alan))\n",
    "\n",
    "daireninAlani()"
   ]
  },
  {
   "cell_type": "markdown",
   "metadata": {},
   "source": [
    "# Ödev 2: \n",
    "Faktöriyel adında fonksiyon oluşturulur. Döngü kullanarak parametre olarak girilen sayının faktöriyeli hesaplanır. Format metodunu kullanılarak ekrana yazdırılır."
   ]
  },
  {
   "cell_type": "code",
   "execution_count": 15,
   "metadata": {
    "vscode": {
     "languageId": "plaintext"
    }
   },
   "outputs": [
    {
     "data": {
      "text/plain": [
       "'5 sayısının faktöriyeli 120 sayısıdır.'"
      ]
     },
     "execution_count": 15,
     "metadata": {},
     "output_type": "execute_result"
    }
   ],
   "source": [
    "def Faktoriyel(parametre):\n",
    "    fakto = 1\n",
    "    x = parametre\n",
    "    while x > 0:\n",
    "        fakto = fakto * x\n",
    "        x = x - 1\n",
    "    return(str(parametre) + \" sayısının faktöriyeli {} sayısıdır.\".format(str(fakto)))\n",
    "\n",
    "Faktoriyel(5)"
   ]
  },
  {
   "cell_type": "markdown",
   "metadata": {},
   "source": [
    "# Ödev 3: \n",
    "Kişinin fonksiyona doğum yılını vererek kaç yaşında olduğunu hesaplayan bir fonksiyon oluşturun. "
   ]
  },
  {
   "cell_type": "code",
   "execution_count": 3,
   "metadata": {
    "vscode": {
     "languageId": "plaintext"
    }
   },
   "outputs": [
    {
     "data": {
      "text/plain": [
       "25"
      ]
     },
     "execution_count": 3,
     "metadata": {},
     "output_type": "execute_result"
    }
   ],
   "source": [
    "def yasHesap(dogumYili):\n",
    "    yas = 2024 - dogumYili\n",
    "    return yas\n",
    "\n",
    "yasHesap(1999)"
   ]
  },
  {
   "cell_type": "markdown",
   "metadata": {},
   "source": [
    "# Ödev 4: \n",
    "Doğum yılı ve isim bilgisi verilen fonksiyon kişinin emekli olup olmadığını söylesin.(Kişi 65 yaşında ise emekli olur.) Burada yaş hesabını yukarıdaki örnekteki fonksiyonu kullanarak yapsın.(Yani fonksiyon içinde fonksiyon kullanmanızı istiyorum :)) Kişi 65 yaşında ya da daha fazlaysa \"Emekli oldunuz\" yanıtını, 65 yaşından küçükse emekliliğine kaç yıl kaldığını da hesaplayarak \"(isim) emekliliğine (yıl) kaldı.\" yanıtını versin."
   ]
  },
  {
   "cell_type": "code",
   "execution_count": 18,
   "metadata": {
    "vscode": {
     "languageId": "plaintext"
    }
   },
   "outputs": [
    {
     "name": "stdout",
     "output_type": "stream",
     "text": [
      "Zeynep emeklilik için 40 yılın kaldı.\n"
     ]
    }
   ],
   "source": [
    "def emeklilik(dogumYili, isim):\n",
    "    yas = yasHesap(dogumYili)\n",
    "    if yas > 65:\n",
    "        print(\"Emekli oldunuz.\")\n",
    "    else:\n",
    "        kalanYil = 65 - yas\n",
    "        print(f\"{isim} emeklilik için {kalanYil} yılın kaldı.\")\n",
    "        \n",
    "emeklilik(1999, \"Zeynep\")"
   ]
  }
 ],
 "metadata": {
  "kernelspec": {
   "display_name": "Python 3 (ipykernel)",
   "language": "python",
   "name": "python3"
  },
  "language_info": {
   "codemirror_mode": {
    "name": "ipython",
    "version": 3
   },
   "file_extension": ".py",
   "mimetype": "text/x-python",
   "name": "python",
   "nbconvert_exporter": "python",
   "pygments_lexer": "ipython3",
   "version": "3.11.7"
  }
 },
 "nbformat": 4,
 "nbformat_minor": 2
}
