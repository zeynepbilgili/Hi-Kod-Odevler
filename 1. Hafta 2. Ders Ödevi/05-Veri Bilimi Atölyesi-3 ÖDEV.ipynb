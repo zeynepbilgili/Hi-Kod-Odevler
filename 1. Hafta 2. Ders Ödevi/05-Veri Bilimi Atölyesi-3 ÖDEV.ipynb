{
 "cells": [
  {
   "cell_type": "markdown",
   "id": "409f0f4a",
   "metadata": {},
   "source": [
    "# Ödev-1: Kullanıcıdan maaş bilgisini istenir ve bu bilgiye göre maaşından ne kadar vergi kesileceğini hesaplanır. Kullanıcının geliri;\n",
    "\n",
    "1. 10000 ve altındaysa maaşından %5 kesinti olur.\n",
    "2. 25000 ve altındaysa maaşından %10 kesinti olur.\n",
    "3. 45000 ve altındaysa maaşından %25 kesinti olur.\n",
    "4. Diğer koşullarda %30 kesinti olur.\n",
    "\n",
    "Bu durumlara göre kullanıcının yeni maaşı yazdırılır."
   ]
  },
  {
   "cell_type": "code",
   "execution_count": 3,
   "id": "5246e510",
   "metadata": {},
   "outputs": [
    {
     "name": "stdout",
     "output_type": "stream",
     "text": [
      "Maaş bilginizi giriniz: 48000\n",
      "Yeni maaşınız:  33600.0\n",
      "Yeni maaşınız: 33600.0\n"
     ]
    }
   ],
   "source": [
    "maas = int(input(\"Maaş bilginizi giriniz: \"))\n",
    "\n",
    "if maas <= 10000:\n",
    "    yeni_maas = maas - maas * 0.05\n",
    "    \n",
    "elif maas <= 25000:\n",
    "    yeni_maas = maas - mass * 0.10\n",
    "    \n",
    "elif maas <=45000:\n",
    "    yeni_maas = maas - maas * 0.25\n",
    "    \n",
    "else:\n",
    "    yeni_maas = maas - maas * 0.30\n",
    "\n",
    "print(\"Yeni maaşınız: \",yeni_maas)\n",
    "print(f\"Yeni maaşınız: {yeni_maas}\")"
   ]
  },
  {
   "cell_type": "markdown",
   "id": "f5fe8798",
   "metadata": {},
   "source": [
    "# Ödev-2: Kullanıcıdan kullanıcı adı ve şifre oluşturmasını istenir. Şifrenin uzunluğu altı haneye ulaşmışsa hesabınız oluşturuldu mesajı alınır, altı haneden azsa altı haneli şifre oluşturması gerektiğinin mesajı alınır. *(Sadece koşul kullanılması yeterli.)*"
   ]
  },
  {
   "cell_type": "code",
   "execution_count": 9,
   "id": "72547b8c",
   "metadata": {
    "scrolled": true
   },
   "outputs": [
    {
     "name": "stdout",
     "output_type": "stream",
     "text": [
      "Kullanıcı adınızı giriniz: znp\n",
      "Şifrenizi giriniz: şfrm\n",
      "Şifreniz altı haneden oluşmalıdır.\n"
     ]
    }
   ],
   "source": [
    "kullaniciAdi = str(input(\"Kullanıcı adınızı giriniz: \"))\n",
    "sifre = str(input(\"Şifrenizi giriniz: \"))\n",
    "\n",
    "if len(sifre) < 6:\n",
    "    print(\"Şifreniz altı haneden oluşmalıdır.\")\n",
    "    \n",
    "else :\n",
    "    print(\"Hesabınız oluşturuldu.\")"
   ]
  },
  {
   "cell_type": "code",
   "execution_count": 11,
   "id": "e219779e",
   "metadata": {},
   "outputs": [
    {
     "name": "stdout",
     "output_type": "stream",
     "text": [
      "Kullanıcı adınızı giriniz: znp\n",
      "Şifrenizi giriniz: sfrm1234\n",
      "Hesabınız oluşturuldu.\n"
     ]
    }
   ],
   "source": [
    "kullaniciAdi = str(input(\"Kullanıcı adınızı giriniz: \"))\n",
    "sifre = str(input(\"Şifrenizi giriniz: \"))\n",
    "\n",
    "if len(sifre) < 6:\n",
    "    print(\"Şifreniz altı haneden oluşmalıdır.\")\n",
    "    \n",
    "else :\n",
    "    print(\"Hesabınız oluşturuldu.\")"
   ]
  },
  {
   "cell_type": "markdown",
   "id": "aaccf11a",
   "metadata": {},
   "source": [
    "# Ödev-3: Bir önceki örnek geliştirilir.\n",
    "\n",
    "1. Kullanıcı girdiği şifre 5 ve 10 hane arasında olmak zorunda.\n",
    "2. Eğer bu koşula uyuyorsa \"Hesabınız oluşturuldu.\" mesajı alır.\n",
    "3. Koşulu sağlamıyorsa \"Lütfen girdiniz şifre 5 haneden az 10 haneden fazla olmasın!\" uyarısı alır.\n",
    "4. Bunu oluştururken kullanıcı istediğimiz şartlarda şifre oluşturana kadar sormaya devam eder"
   ]
  },
  {
   "cell_type": "code",
   "execution_count": 2,
   "id": "e37c9987",
   "metadata": {},
   "outputs": [
    {
     "name": "stdout",
     "output_type": "stream",
     "text": [
      "Şifrenizi giriniz: sfrm\n",
      "Lütfen girdiniz şifre 5 haneden az 10 haneden fazla olmasın!\n",
      "Şifrenizi giriniz: sfrm1\n",
      "Hesabınız oluşturuldu.\n"
     ]
    }
   ],
   "source": [
    "x = 0\n",
    "\n",
    "while x == 0:\n",
    "    sifre = str(input(\"Şifrenizi giriniz: \"))\n",
    "    \n",
    "    if 5 <= len(sifre) <= 10:\n",
    "        print(\"Hesabınız oluşturuldu.\")\n",
    "        break\n",
    "        \n",
    "    else:\n",
    "        print(\"Lütfen girdiniz şifre 5 haneden az 10 haneden fazla olmasın!\")"
   ]
  },
  {
   "cell_type": "markdown",
   "id": "8ba81863",
   "metadata": {},
   "source": [
    "# Ödev-4: Kullanıcıdan isim ve şifre isteyeceğiz ve şifre girişi için üç hak verilir.\n",
    "\n",
    "1. Eğer önceden tanımlı şifre ile kullanıcıdan gelen şifre aynıysa \"Giriş yapıldı.\" yazar.\n",
    "2. Şifre girişi yanlışsa \"Yanlış şifre girildi!\" uyarısı verilsin ve üç yanlış denemede program biter.\n",
    "3. Tercihe göre kalan hak bilgisi verilir."
   ]
  },
  {
   "cell_type": "code",
   "execution_count": 10,
   "id": "e8a06720",
   "metadata": {},
   "outputs": [
    {
     "name": "stdout",
     "output_type": "stream",
     "text": [
      "İsminizi giriniz: zeynep\n",
      "Şifrenizi giriniz: 123\n",
      "Yanlış şifre girildi! Kalan hakkınız:  2\n",
      "İsminizi giriniz: zeynep\n",
      "Şifrenizi giriniz: 12345\n",
      "Giriş yapıldı.\n"
     ]
    }
   ],
   "source": [
    "x = 3\n",
    "dogruSifre = 12345\n",
    "\n",
    "while 1 <= x <= 3:\n",
    "    isim = str(input(\"İsminizi giriniz: \"))\n",
    "    sifre = input(\"Şifrenizi giriniz: \")\n",
    "    \n",
    "    if str(dogruSifre) == str(sifre):\n",
    "        print(\"Giriş yapıldı.\")\n",
    "        break\n",
    "        \n",
    "    else:\n",
    "        print(\"Yanlış şifre girildi! Kalan hakkınız: \",x - 1)\n",
    "        x = x - 1"
   ]
  },
  {
   "cell_type": "code",
   "execution_count": 9,
   "id": "49cbbb72",
   "metadata": {},
   "outputs": [
    {
     "name": "stdout",
     "output_type": "stream",
     "text": [
      "İsminizi giriniz: zeynep\n",
      "Şifrenizi giriniz: 12\n",
      "Yanlış şifre girildi! Kalan hakkınız:  2\n",
      "İsminizi giriniz: zeynep\n",
      "Şifrenizi giriniz: 123\n",
      "Yanlış şifre girildi! Kalan hakkınız:  1\n",
      "İsminizi giriniz: zeynep\n",
      "Şifrenizi giriniz: 1234\n",
      "Yanlış şifre girildi! Kalan hakkınız:  0\n"
     ]
    }
   ],
   "source": [
    "x = 3\n",
    "dogruSifre = 12345\n",
    "\n",
    "while 1 <= x <= 3:\n",
    "    isim = str(input(\"İsminizi giriniz: \"))\n",
    "    sifre = input(\"Şifrenizi giriniz: \")\n",
    "    \n",
    "    if str(dogruSifre) == str(sifre):\n",
    "        print(\"Giriş yapıldı.\")\n",
    "        break\n",
    "        \n",
    "    elif str(dogruSifre) != str(sifre):\n",
    "        print(\"Yanlış şifre girildi! Kalan hakkınız: \",x - 1)\n",
    "        x = x - 1"
   ]
  }
 ],
 "metadata": {
  "kernelspec": {
   "display_name": "Python 3 (ipykernel)",
   "language": "python",
   "name": "python3"
  },
  "language_info": {
   "codemirror_mode": {
    "name": "ipython",
    "version": 3
   },
   "file_extension": ".py",
   "mimetype": "text/x-python",
   "name": "python",
   "nbconvert_exporter": "python",
   "pygments_lexer": "ipython3",
   "version": "3.11.7"
  }
 },
 "nbformat": 4,
 "nbformat_minor": 5
}
