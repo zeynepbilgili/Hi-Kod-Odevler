{
 "cells": [
  {
   "cell_type": "markdown",
   "metadata": {},
   "source": [
    "# Ödev 1\n",
    "\n",
    "Bir sözlük oluşturulur ve bu sözlükte öğrencilerin isimleri ve Matematik, Fizik, Kimya notları tutulur. Kullanıcıdan isim ve ders ismi(Matematik, Fizik, Kimya) istenir ve bu bilgilere göre çıktı verilir."
   ]
  },
  {
   "cell_type": "code",
   "execution_count": 9,
   "metadata": {},
   "outputs": [
    {
     "name": "stdout",
     "output_type": "stream",
     "text": [
      "Not bilgilerini öğrenmek istediğinizin öğrencinin adını giriniz: Ahmet Kara\n",
      "Not bilgisini öğrenmek istediğiniz dersin adını giriniz: Fizik\n",
      "98\n"
     ]
    }
   ],
   "source": [
    "dict = {\"Ayşe Yılmaz\":{\"Matematik\":78, \"Fizik\": 90, \"Kimya\": 65},\n",
    "       \"Ahmet Kara\":{\"Matematik\":90, \"Fizik\":98, \"Kimya\":95},\n",
    "       \"Aydın Sever\":{\"Matematik\":87, \"Fizik\":69, \"Kimya\":54}}\n",
    "\n",
    "isim = input(\"Not bilgilerini öğrenmek istediğinizin öğrencinin adını giriniz: \")\n",
    "\n",
    "bilgi = input(\"Not bilgisini öğrenmek istediğiniz dersin adını giriniz: \")\n",
    "\n",
    "print(dict[isim][bilgi])"
   ]
  },
  {
   "cell_type": "code",
   "execution_count": 19,
   "metadata": {
    "scrolled": true
   },
   "outputs": [
    {
     "name": "stdout",
     "output_type": "stream",
     "text": [
      "Ahmet Kara isimli öğrensinin ders notları : {'Matematik': 90, 'Fizik': 98, 'Kimya': 95} \n"
     ]
    }
   ],
   "source": [
    "print(\"{} isimli öğrensinin ders notları : {} \".format(isim,dict[isim]))"
   ]
  },
  {
   "cell_type": "code",
   "execution_count": 26,
   "metadata": {},
   "outputs": [
    {
     "name": "stdout",
     "output_type": "stream",
     "text": [
      "Ahmet Kara isimli öğrensinin ders notu : 98 \n"
     ]
    }
   ],
   "source": [
    "print(\"{} isimli öğrensinin ders notu : {} \".format(isim,dict[isim][bilgi]))"
   ]
  },
  {
   "cell_type": "markdown",
   "metadata": {},
   "source": [
    "# Ödev 2\n",
    "\n",
    "Sözlük üzerinde değerleri değiştirme, yeni değer ekleme, kullanıcıya ulaşmak istediği bilgileri sorma gibi uygulamalar yapın."
   ]
  },
  {
   "cell_type": "code",
   "execution_count": 29,
   "metadata": {},
   "outputs": [
    {
     "data": {
      "text/plain": [
       "80"
      ]
     },
     "execution_count": 29,
     "metadata": {},
     "output_type": "execute_result"
    }
   ],
   "source": [
    "dict[\"Ayşe Yılmaz\"][\"Matematik\"] = 80\n",
    "dict[\"Ayşe Yılmaz\"][\"Matematik\"]"
   ]
  },
  {
   "cell_type": "code",
   "execution_count": 31,
   "metadata": {},
   "outputs": [
    {
     "data": {
      "text/plain": [
       "{'Ayşe Yılmaz': {'Matematik': 80, 'Fizik': 90, 'Kimya': 65},\n",
       " 'Ahmet Kara': {'Matematik': 90, 'Fizik': 98, 'Kimya': 95},\n",
       " 'Aydın Sever': {'Matematik': 87, 'Fizik': 69, 'Kimya': 54},\n",
       " 'Zeynep Güven': {'Matematik': 90, 'Fizik': 93, 'Kimya': 89}}"
      ]
     },
     "execution_count": 31,
     "metadata": {},
     "output_type": "execute_result"
    }
   ],
   "source": [
    "dict[\"Zeynep Güven\"] = {\"Matematik\":90, \"Fizik\":93, \"Kimya\":89}\n",
    "dict"
   ]
  },
  {
   "cell_type": "code",
   "execution_count": 32,
   "metadata": {},
   "outputs": [
    {
     "data": {
      "text/plain": [
       "89"
      ]
     },
     "execution_count": 32,
     "metadata": {},
     "output_type": "execute_result"
    }
   ],
   "source": [
    "dict[\"Zeynep Güven\"][\"Kimya\"]"
   ]
  }
 ],
 "metadata": {
  "kernelspec": {
   "display_name": "Python 3 (ipykernel)",
   "language": "python",
   "name": "python3"
  },
  "language_info": {
   "codemirror_mode": {
    "name": "ipython",
    "version": 3
   },
   "file_extension": ".py",
   "mimetype": "text/x-python",
   "name": "python",
   "nbconvert_exporter": "python",
   "pygments_lexer": "ipython3",
   "version": "3.11.7"
  }
 },
 "nbformat": 4,
 "nbformat_minor": 2
}
