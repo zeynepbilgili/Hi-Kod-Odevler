{
 "cells": [
  {
   "cell_type": "markdown",
   "id": "14f36626",
   "metadata": {},
   "source": [
    "# Ödev-1: Değişkenlere atanmış değerlerin veri tipleri arasında dönüşüm yapılır."
   ]
  },
  {
   "cell_type": "code",
   "execution_count": 1,
   "id": "daef42d2",
   "metadata": {},
   "outputs": [],
   "source": [
    "x = 5\n",
    "y = 5.7\n",
    "z = \"5\"\n",
    "t = \"3\"\n",
    "f = \"5.9\""
   ]
  },
  {
   "cell_type": "code",
   "execution_count": 2,
   "id": "8107a31b",
   "metadata": {},
   "outputs": [
    {
     "data": {
      "text/plain": [
       "int"
      ]
     },
     "execution_count": 2,
     "metadata": {},
     "output_type": "execute_result"
    }
   ],
   "source": [
    "type(x)"
   ]
  },
  {
   "cell_type": "code",
   "execution_count": 3,
   "id": "234a2276",
   "metadata": {},
   "outputs": [
    {
     "data": {
      "text/plain": [
       "5.0"
      ]
     },
     "execution_count": 3,
     "metadata": {},
     "output_type": "execute_result"
    }
   ],
   "source": [
    "x =float(x)\n",
    "x"
   ]
  },
  {
   "cell_type": "code",
   "execution_count": null,
   "id": "9ef65325",
   "metadata": {},
   "outputs": [],
   "source": []
  },
  {
   "cell_type": "code",
   "execution_count": 4,
   "id": "f50ee67d",
   "metadata": {},
   "outputs": [
    {
     "data": {
      "text/plain": [
       "float"
      ]
     },
     "execution_count": 4,
     "metadata": {},
     "output_type": "execute_result"
    }
   ],
   "source": [
    "type(y)"
   ]
  },
  {
   "cell_type": "code",
   "execution_count": 5,
   "id": "07cd46d3",
   "metadata": {},
   "outputs": [
    {
     "data": {
      "text/plain": [
       "5"
      ]
     },
     "execution_count": 5,
     "metadata": {},
     "output_type": "execute_result"
    }
   ],
   "source": [
    "y = int(y)\n",
    "y"
   ]
  },
  {
   "cell_type": "code",
   "execution_count": 6,
   "id": "6824d5d1",
   "metadata": {},
   "outputs": [
    {
     "data": {
      "text/plain": [
       "int"
      ]
     },
     "execution_count": 6,
     "metadata": {},
     "output_type": "execute_result"
    }
   ],
   "source": [
    "type(y)"
   ]
  },
  {
   "cell_type": "code",
   "execution_count": null,
   "id": "4eff5740",
   "metadata": {},
   "outputs": [],
   "source": []
  },
  {
   "cell_type": "code",
   "execution_count": 7,
   "id": "f8c2cd54",
   "metadata": {},
   "outputs": [
    {
     "data": {
      "text/plain": [
       "str"
      ]
     },
     "execution_count": 7,
     "metadata": {},
     "output_type": "execute_result"
    }
   ],
   "source": [
    "type(z)"
   ]
  },
  {
   "cell_type": "code",
   "execution_count": 8,
   "id": "ec2a65b5",
   "metadata": {},
   "outputs": [
    {
     "data": {
      "text/plain": [
       "5"
      ]
     },
     "execution_count": 8,
     "metadata": {},
     "output_type": "execute_result"
    }
   ],
   "source": [
    "z = int(z)\n",
    "z"
   ]
  },
  {
   "cell_type": "code",
   "execution_count": 9,
   "id": "15ab1b14",
   "metadata": {},
   "outputs": [
    {
     "data": {
      "text/plain": [
       "int"
      ]
     },
     "execution_count": 9,
     "metadata": {},
     "output_type": "execute_result"
    }
   ],
   "source": [
    "type(z)"
   ]
  },
  {
   "cell_type": "code",
   "execution_count": null,
   "id": "ddca3a27",
   "metadata": {},
   "outputs": [],
   "source": []
  },
  {
   "cell_type": "code",
   "execution_count": 10,
   "id": "80764407",
   "metadata": {},
   "outputs": [
    {
     "data": {
      "text/plain": [
       "str"
      ]
     },
     "execution_count": 10,
     "metadata": {},
     "output_type": "execute_result"
    }
   ],
   "source": [
    "type(t)"
   ]
  },
  {
   "cell_type": "code",
   "execution_count": 11,
   "id": "becdef06",
   "metadata": {},
   "outputs": [
    {
     "data": {
      "text/plain": [
       "3.0"
      ]
     },
     "execution_count": 11,
     "metadata": {},
     "output_type": "execute_result"
    }
   ],
   "source": [
    "t = float(t)\n",
    "t"
   ]
  },
  {
   "cell_type": "code",
   "execution_count": 12,
   "id": "463559af",
   "metadata": {},
   "outputs": [
    {
     "data": {
      "text/plain": [
       "float"
      ]
     },
     "execution_count": 12,
     "metadata": {},
     "output_type": "execute_result"
    }
   ],
   "source": [
    "type(t)"
   ]
  },
  {
   "cell_type": "code",
   "execution_count": null,
   "id": "94b7f27a",
   "metadata": {},
   "outputs": [],
   "source": []
  },
  {
   "cell_type": "code",
   "execution_count": 13,
   "id": "199e0be8",
   "metadata": {},
   "outputs": [
    {
     "data": {
      "text/plain": [
       "str"
      ]
     },
     "execution_count": 13,
     "metadata": {},
     "output_type": "execute_result"
    }
   ],
   "source": [
    "type(f)"
   ]
  },
  {
   "cell_type": "code",
   "execution_count": 14,
   "id": "b7978f38",
   "metadata": {},
   "outputs": [
    {
     "ename": "ValueError",
     "evalue": "invalid literal for int() with base 10: '5.9'",
     "output_type": "error",
     "traceback": [
      "\u001b[1;31m---------------------------------------------------------------------------\u001b[0m",
      "\u001b[1;31mValueError\u001b[0m                                Traceback (most recent call last)",
      "Cell \u001b[1;32mIn[14], line 2\u001b[0m\n\u001b[0;32m      1\u001b[0m \u001b[38;5;66;03m# Hata alırız, önce float sonra int çevirebiliriz:\u001b[39;00m\n\u001b[1;32m----> 2\u001b[0m f \u001b[38;5;241m=\u001b[39m \u001b[38;5;28mint\u001b[39m(f)\n\u001b[0;32m      3\u001b[0m f\n",
      "\u001b[1;31mValueError\u001b[0m: invalid literal for int() with base 10: '5.9'"
     ]
    }
   ],
   "source": [
    "# Hata alırız, önce float sonra int çevirebiliriz:\n",
    "f = int(f)\n",
    "f"
   ]
  },
  {
   "cell_type": "code",
   "execution_count": null,
   "id": "af4c9f06",
   "metadata": {},
   "outputs": [],
   "source": [
    "f = int(float(f))\n",
    "f"
   ]
  },
  {
   "cell_type": "code",
   "execution_count": 15,
   "id": "9c073073",
   "metadata": {},
   "outputs": [
    {
     "data": {
      "text/plain": [
       "str"
      ]
     },
     "execution_count": 15,
     "metadata": {},
     "output_type": "execute_result"
    }
   ],
   "source": [
    "type(f)"
   ]
  },
  {
   "cell_type": "markdown",
   "id": "6c39bdb8",
   "metadata": {},
   "source": [
    "# Ödev-2: İsimlerden oluşan üç değişkene yaş değerleri atanır. Belirlenen üç değişken birbiriyle karşılaştırma operatörleri ile karşılaştırılır. Bu karşılaştırmalara mantıksal operatörler de eklenir."
   ]
  },
  {
   "cell_type": "code",
   "execution_count": 16,
   "id": "18a593cd",
   "metadata": {},
   "outputs": [],
   "source": [
    "zeynep = 25\n",
    "ayse = 52\n",
    "burak= 29"
   ]
  },
  {
   "cell_type": "code",
   "execution_count": 17,
   "id": "72d558b7",
   "metadata": {},
   "outputs": [
    {
     "data": {
      "text/plain": [
       "False"
      ]
     },
     "execution_count": 17,
     "metadata": {},
     "output_type": "execute_result"
    }
   ],
   "source": [
    "zeynep > ayse"
   ]
  },
  {
   "cell_type": "code",
   "execution_count": 18,
   "id": "ce16aa60",
   "metadata": {},
   "outputs": [
    {
     "data": {
      "text/plain": [
       "False"
      ]
     },
     "execution_count": 18,
     "metadata": {},
     "output_type": "execute_result"
    }
   ],
   "source": [
    "ayse < burak"
   ]
  },
  {
   "cell_type": "code",
   "execution_count": 19,
   "id": "61821438",
   "metadata": {},
   "outputs": [
    {
     "data": {
      "text/plain": [
       "False"
      ]
     },
     "execution_count": 19,
     "metadata": {},
     "output_type": "execute_result"
    }
   ],
   "source": [
    "zeynep == burak"
   ]
  },
  {
   "cell_type": "code",
   "execution_count": 20,
   "id": "906041dd",
   "metadata": {},
   "outputs": [
    {
     "data": {
      "text/plain": [
       "False"
      ]
     },
     "execution_count": 20,
     "metadata": {},
     "output_type": "execute_result"
    }
   ],
   "source": [
    "zeynep < ayse and zeynep > burak"
   ]
  },
  {
   "cell_type": "code",
   "execution_count": 21,
   "id": "7c4ba482",
   "metadata": {},
   "outputs": [
    {
     "data": {
      "text/plain": [
       "True"
      ]
     },
     "execution_count": 21,
     "metadata": {},
     "output_type": "execute_result"
    }
   ],
   "source": [
    "zeynep < ayse and zeynep < burak"
   ]
  },
  {
   "cell_type": "code",
   "execution_count": 22,
   "id": "91e230b8",
   "metadata": {},
   "outputs": [
    {
     "data": {
      "text/plain": [
       "True"
      ]
     },
     "execution_count": 22,
     "metadata": {},
     "output_type": "execute_result"
    }
   ],
   "source": [
    "zeynep < ayse or zeynep > burak"
   ]
  },
  {
   "cell_type": "code",
   "execution_count": 23,
   "id": "c4e27154",
   "metadata": {},
   "outputs": [
    {
     "data": {
      "text/plain": [
       "False"
      ]
     },
     "execution_count": 23,
     "metadata": {},
     "output_type": "execute_result"
    }
   ],
   "source": [
    "zeynep > ayse or zeynep > burak"
   ]
  },
  {
   "cell_type": "code",
   "execution_count": 24,
   "id": "81d0cd4a",
   "metadata": {},
   "outputs": [
    {
     "data": {
      "text/plain": [
       "False"
      ]
     },
     "execution_count": 24,
     "metadata": {},
     "output_type": "execute_result"
    }
   ],
   "source": [
    "not zeynep < ayse"
   ]
  },
  {
   "cell_type": "code",
   "execution_count": 25,
   "id": "8eea1c4c",
   "metadata": {},
   "outputs": [
    {
     "data": {
      "text/plain": [
       "True"
      ]
     },
     "execution_count": 25,
     "metadata": {},
     "output_type": "execute_result"
    }
   ],
   "source": [
    "not zeynep > ayse"
   ]
  },
  {
   "cell_type": "markdown",
   "id": "0f1690d7",
   "metadata": {},
   "source": [
    "# Ödev-3: Kullanıcıdan iki değer girmesini istenir. Girilen değerlerin toplama, çıkarma, çarpma, bölme sonuçlarını yazdırılır."
   ]
  },
  {
   "cell_type": "code",
   "execution_count": 26,
   "id": "b33c2b83",
   "metadata": {},
   "outputs": [
    {
     "name": "stdout",
     "output_type": "stream",
     "text": [
      "İlk sayıyı giriniz : 10\n",
      "İkinci sayıyı giriniz : 3\n"
     ]
    }
   ],
   "source": [
    "sayi1 = int(input(\"İlk sayıyı giriniz : \"))\n",
    "sayi2 = int(input(\"İkinci sayıyı giriniz : \"))"
   ]
  },
  {
   "cell_type": "code",
   "execution_count": 28,
   "id": "0c5d61ab",
   "metadata": {},
   "outputs": [
    {
     "name": "stdout",
     "output_type": "stream",
     "text": [
      "Toplam :  13\n"
     ]
    }
   ],
   "source": [
    "toplam = sayi1 + sayi2\n",
    "print(\"Toplam : \", toplam)"
   ]
  },
  {
   "cell_type": "code",
   "execution_count": 29,
   "id": "e29bfb86",
   "metadata": {},
   "outputs": [
    {
     "name": "stdout",
     "output_type": "stream",
     "text": [
      "Fark :  7\n"
     ]
    }
   ],
   "source": [
    "cikarma = sayi1 - sayi2\n",
    "print(\"Fark : \" ,cikarma)"
   ]
  },
  {
   "cell_type": "code",
   "execution_count": 30,
   "id": "3653b070",
   "metadata": {},
   "outputs": [
    {
     "name": "stdout",
     "output_type": "stream",
     "text": [
      "Çarpım :  30\n"
     ]
    }
   ],
   "source": [
    "carpma = sayi1 * sayi2\n",
    "print(\"Çarpım : \" ,carpma)"
   ]
  },
  {
   "cell_type": "code",
   "execution_count": 31,
   "id": "fb79c29e",
   "metadata": {},
   "outputs": [
    {
     "name": "stdout",
     "output_type": "stream",
     "text": [
      "Bölüm :  3.3333333333333335\n"
     ]
    }
   ],
   "source": [
    "bolme = sayi1 / sayi2\n",
    "print(\"Bölüm : \" ,bolme)"
   ]
  },
  {
   "cell_type": "code",
   "execution_count": 33,
   "id": "cfb8f879",
   "metadata": {},
   "outputs": [
    {
     "name": "stdout",
     "output_type": "stream",
     "text": [
      "Tam Bölüm :  3\n"
     ]
    }
   ],
   "source": [
    "tamBolme = sayi1 // sayi2\n",
    "print(\"Tam Bölüm : \" ,tamBolme)"
   ]
  },
  {
   "cell_type": "markdown",
   "id": "6573ce10",
   "metadata": {},
   "source": [
    "# Ödev-4: Kullanıcıdan isim, yaş, şehir ve meslek bilgilerini istenir ve cevaplarını yazdırılır."
   ]
  },
  {
   "cell_type": "code",
   "execution_count": 34,
   "id": "87bbca74",
   "metadata": {},
   "outputs": [
    {
     "name": "stdout",
     "output_type": "stream",
     "text": [
      "İsminizi giriniz : Zeynep\n",
      "Yaşınızı giriniz : 25\n",
      "Şehrinizi giriniz : Ankara\n",
      "Mesleğinizi giriniz : İstatistikçi\n"
     ]
    }
   ],
   "source": [
    "isim = str(input(\"İsminizi giriniz : \"))\n",
    "yas = int(input(\"Yaşınızı giriniz : \"))\n",
    "sehir = str(input(\"Şehrinizi giriniz : \"))\n",
    "meslek = str(input(\"Mesleğinizi giriniz : \"))"
   ]
  },
  {
   "cell_type": "code",
   "execution_count": 36,
   "id": "50834baa",
   "metadata": {},
   "outputs": [
    {
     "name": "stdout",
     "output_type": "stream",
     "text": [
      "İsim :  Zeynep\n",
      "Yaş :  25\n",
      "Şehir :  Ankara\n",
      "Meslek :  İstatistikçi\n"
     ]
    }
   ],
   "source": [
    "print(\"İsim : \", isim)\n",
    "print(\"Yaş : \", yas)\n",
    "print(\"Şehir : \", sehir)\n",
    "print(\"Meslek : \", meslek)"
   ]
  },
  {
   "cell_type": "markdown",
   "id": "d223ad40",
   "metadata": {},
   "source": [
    "# Ödev-5: \"Hi-Kod Veri Bilimi Atölyesi\" ifadesini bir değişkene tanımlanır."
   ]
  },
  {
   "cell_type": "code",
   "execution_count": 38,
   "id": "bf4b5c62",
   "metadata": {},
   "outputs": [],
   "source": [
    "x = \"Hi-Kod Veri Bilimi Atölyesi\""
   ]
  },
  {
   "cell_type": "markdown",
   "id": "20623771",
   "metadata": {},
   "source": [
    "### 1. İfadedeki her bir kelimeyi (\"Hi-Kod\", \"Veri\", \"Bilimi\", \"Atölyesi\") değişken içinden seçilir. "
   ]
  },
  {
   "cell_type": "code",
   "execution_count": 39,
   "id": "7ac9c420",
   "metadata": {},
   "outputs": [
    {
     "data": {
      "text/plain": [
       "'Hi-Kod'"
      ]
     },
     "execution_count": 39,
     "metadata": {},
     "output_type": "execute_result"
    }
   ],
   "source": [
    "x[0:6]"
   ]
  },
  {
   "cell_type": "code",
   "execution_count": 41,
   "id": "75cf682b",
   "metadata": {},
   "outputs": [
    {
     "data": {
      "text/plain": [
       "'Veri'"
      ]
     },
     "execution_count": 41,
     "metadata": {},
     "output_type": "execute_result"
    }
   ],
   "source": [
    "x[7:11]"
   ]
  },
  {
   "cell_type": "code",
   "execution_count": 45,
   "id": "be5c8cbc",
   "metadata": {},
   "outputs": [
    {
     "data": {
      "text/plain": [
       "'Bilimi'"
      ]
     },
     "execution_count": 45,
     "metadata": {},
     "output_type": "execute_result"
    }
   ],
   "source": [
    "x[12:18]"
   ]
  },
  {
   "cell_type": "code",
   "execution_count": 46,
   "id": "990fe141",
   "metadata": {},
   "outputs": [
    {
     "data": {
      "text/plain": [
       "'Atölyesi'"
      ]
     },
     "execution_count": 46,
     "metadata": {},
     "output_type": "execute_result"
    }
   ],
   "source": [
    "x[19:]"
   ]
  },
  {
   "cell_type": "markdown",
   "id": "af2dd51b",
   "metadata": {},
   "source": [
    "### 2. İfadeyi hepsini büyük harf olacak hale çevrilir. (\"HI-KOD VERİ BİLİMİ ATÖLYESİ\") "
   ]
  },
  {
   "cell_type": "code",
   "execution_count": 47,
   "id": "3d92ab02",
   "metadata": {},
   "outputs": [
    {
     "data": {
      "text/plain": [
       "'HI-KOD VERI BILIMI ATÖLYESI'"
      ]
     },
     "execution_count": 47,
     "metadata": {},
     "output_type": "execute_result"
    }
   ],
   "source": [
    "x.upper()"
   ]
  },
  {
   "cell_type": "markdown",
   "id": "f25df654",
   "metadata": {},
   "source": [
    "### 3. İfadeyi hepsini küçük harf olacak hale çevrilir.(\"hi-kod veri bilimi atölyesi\") "
   ]
  },
  {
   "cell_type": "code",
   "execution_count": 49,
   "id": "21566f9f",
   "metadata": {},
   "outputs": [
    {
     "data": {
      "text/plain": [
       "'hi-kod veri bilimi atölyesi'"
      ]
     },
     "execution_count": 49,
     "metadata": {},
     "output_type": "execute_result"
    }
   ],
   "source": [
    "x.lower()"
   ]
  },
  {
   "cell_type": "markdown",
   "id": "2e8ecd0c",
   "metadata": {},
   "source": [
    "# Ödev-6: \"0123456789\" ifadesindeki yalnızca çift sayıları ve yalnızca tek sayıları seçilir. (\"02468\", \"13579\")"
   ]
  },
  {
   "cell_type": "code",
   "execution_count": 50,
   "id": "1424a5ef",
   "metadata": {},
   "outputs": [],
   "source": [
    "sayi = \"0123456789\""
   ]
  },
  {
   "cell_type": "code",
   "execution_count": 52,
   "id": "3f49c72a",
   "metadata": {
    "scrolled": false
   },
   "outputs": [
    {
     "data": {
      "text/plain": [
       "'02468'"
      ]
     },
     "execution_count": 52,
     "metadata": {},
     "output_type": "execute_result"
    }
   ],
   "source": [
    "sayi[0:9:2]\n",
    "sayi[::2]"
   ]
  },
  {
   "cell_type": "code",
   "execution_count": 54,
   "id": "be9fb526",
   "metadata": {},
   "outputs": [
    {
     "data": {
      "text/plain": [
       "'13579'"
      ]
     },
     "execution_count": 54,
     "metadata": {},
     "output_type": "execute_result"
    }
   ],
   "source": [
    "sayi[1:10:2]\n",
    "sayi[1::2]"
   ]
  }
 ],
 "metadata": {
  "kernelspec": {
   "display_name": "Python 3 (ipykernel)",
   "language": "python",
   "name": "python3"
  },
  "language_info": {
   "codemirror_mode": {
    "name": "ipython",
    "version": 3
   },
   "file_extension": ".py",
   "mimetype": "text/x-python",
   "name": "python",
   "nbconvert_exporter": "python",
   "pygments_lexer": "ipython3",
   "version": "3.11.7"
  }
 },
 "nbformat": 4,
 "nbformat_minor": 5
}
